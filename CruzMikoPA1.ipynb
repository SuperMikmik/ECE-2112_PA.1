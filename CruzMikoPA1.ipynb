{
 "cells": [
  {
   "cell_type": "markdown",
   "id": "1eb6ad2e-5a52-4f38-816a-6c89403fec2a",
   "metadata": {},
   "source": [
    "# <center>EXPERIMENT 1<center>INTRODUCTION TO PYTHON"
   ]
  },
  {
   "cell_type": "markdown",
   "id": "278fbf19-5782-49ef-9199-d1f0fabaa8d3",
   "metadata": {},
   "source": [
    "# ALPHABET SOUP PROBLEM:"
   ]
  },
  {
   "cell_type": "code",
   "execution_count": 147,
   "id": "72461403-4323-490f-bbb1-22173731163e",
   "metadata": {},
   "outputs": [],
   "source": [
    "#Defining the function\n",
    "def sort (words):\n",
    "\n",
    "    #Sort the letters in the function parameters \n",
    "    words = sorted(words)\n",
    "\n",
    "    #To combine/compress the newly sorted letter (as the newly sorted letters are in a ist) \n",
    "    words =  \"\".join(words)\n",
    "\n",
    "    #Return the sorted word/s\n",
    "    return(words)"
   ]
  },
  {
   "cell_type": "markdown",
   "id": "61360611-fac2-482a-8c77-9a33895e6d21",
   "metadata": {},
   "source": [
    "Demonstration:"
   ]
  },
  {
   "cell_type": "code",
   "execution_count": 150,
   "id": "ac872310-50ab-4c81-addc-a04871245395",
   "metadata": {},
   "outputs": [
    {
     "data": {
      "text/plain": [
       "'acehkr'"
      ]
     },
     "execution_count": 150,
     "metadata": {},
     "output_type": "execute_result"
    }
   ],
   "source": [
    "sort(\"hacker\")"
   ]
  },
  {
   "cell_type": "markdown",
   "id": "a6b54857-a5e3-4e65-9068-80526d00c1a9",
   "metadata": {},
   "source": [
    "# EMOTICON PROBLEM:"
   ]
  },
  {
   "cell_type": "code",
   "execution_count": 153,
   "id": "25225573-c99a-4259-8879-4797911e14fe",
   "metadata": {},
   "outputs": [],
   "source": [
    "#Defining the function\n",
    "def emotify(words):\n",
    "\n",
    "    #changing all relevant words to their respective counterparts\n",
    "    words = words.replace('Smile', ':)').replace('smile', ':)')\n",
    "    words = words.replace('Grin', ':D').replace('grin', ':D')\n",
    "    words = words.replace('Sad', ':((').replace('sad', ':((')\n",
    "    words = words.replace('Mad', '>:(').replace('mad', '>:(')\n",
    "\n",
    "    #return the transformed sentence \n",
    "    return words"
   ]
  },
  {
   "cell_type": "markdown",
   "id": "00dd305a-dfd0-448a-9606-6550037608b0",
   "metadata": {},
   "source": [
    "Demonstration:"
   ]
  },
  {
   "cell_type": "code",
   "execution_count": 156,
   "id": "51d031ce-1bf0-46ae-95b3-ab6184fba0fc",
   "metadata": {},
   "outputs": [
    {
     "data": {
      "text/plain": [
       "'Even though she felt >:( and :(( inside, she forced a :) and a small :D to make everyone think she was okay.'"
      ]
     },
     "execution_count": 156,
     "metadata": {},
     "output_type": "execute_result"
    }
   ],
   "source": [
    "emotify('Even though she felt mad and sad inside, she forced a smile and a small grin to make everyone think she was okay.')"
   ]
  },
  {
   "cell_type": "markdown",
   "id": "d41beabd-1b26-4fab-b4b6-d0edba516b6a",
   "metadata": {},
   "source": [
    "# UNPACKING LIST PROBLEM:"
   ]
  },
  {
   "cell_type": "code",
   "execution_count": 159,
   "id": "707cb0e4-09bb-458d-b77b-e8429d178d28",
   "metadata": {},
   "outputs": [
    {
     "name": "stdout",
     "output_type": "stream",
     "text": [
      "first = 1 \t middle = [2, 3, 4, 5, 6, 7, 8] \t     last = 9\n"
     ]
    }
   ],
   "source": [
    "#Initial list\n",
    "x = [1,2,3,4,5,6,7,8,9]\n",
    "\n",
    "#Define the contents of the variables through their index\n",
    "first = x[0]\n",
    "last = x[-1]\n",
    "middle = x[1:-1]\n",
    "\n",
    "#Print the required output\n",
    "print(\"first =\", first, '\\t', \"middle =\", middle, '\\t    ', \"last =\", last)"
   ]
  }
 ],
 "metadata": {
  "kernelspec": {
   "display_name": "Python 3 (ipykernel)",
   "language": "python",
   "name": "python3"
  },
  "language_info": {
   "codemirror_mode": {
    "name": "ipython",
    "version": 3
   },
   "file_extension": ".py",
   "mimetype": "text/x-python",
   "name": "python",
   "nbconvert_exporter": "python",
   "pygments_lexer": "ipython3",
   "version": "3.12.4"
  }
 },
 "nbformat": 4,
 "nbformat_minor": 5
}
